{
 "cells": [
  {
   "cell_type": "code",
   "execution_count": 1,
   "id": "9b78e990-7513-4446-bbd7-61d3b0ff37a0",
   "metadata": {},
   "outputs": [
    {
     "name": "stdout",
     "output_type": "stream",
     "text": [
      "\n",
      "=== Feature Set Comparison ===\n",
      "         Feature Set  Accuracy  F1-score       AUC\n",
      "0  selected_features  0.770492  0.774194  0.878788\n",
      "1     top10_features  0.868852  0.866667  0.939394\n"
     ]
    }
   ],
   "source": [
    "# compare_features.py\n",
    "\n",
    "import pandas as pd\n",
    "from sklearn.model_selection import train_test_split\n",
    "from sklearn.preprocessing import StandardScaler\n",
    "from sklearn.ensemble import RandomForestClassifier\n",
    "from sklearn.metrics import accuracy_score, f1_score, roc_auc_score\n",
    "\n",
    "# ======================\n",
    "# 1. Load the datasets\n",
    "# ======================\n",
    "selected = pd.read_csv(r\"D:\\DATA_ANALYSIS\\ML_\\1\\Heart_Disease_Project\\data\\selected_features.csv\")\n",
    "top10 = pd.read_csv(r\"D:\\DATA_ANALYSIS\\ML_\\1\\Heart_Disease_Project\\data\\top10_features.csv\")\n",
    "\n",
    "# Split X and y\n",
    "X_sel, y_sel = selected.drop(\"target\", axis=1), selected[\"target\"]\n",
    "X_top, y_top = top10.drop(\"target\", axis=1), top10[\"target\"]\n",
    "\n",
    "# ======================\n",
    "# 2. Train/Test Split\n",
    "# ======================\n",
    "X_train_sel, X_test_sel, y_train_sel, y_test_sel = train_test_split(\n",
    "    X_sel, y_sel, test_size=0.2, random_state=42, stratify=y_sel\n",
    ")\n",
    "X_train_top, X_test_top, y_train_top, y_test_top = train_test_split(\n",
    "    X_top, y_top, test_size=0.2, random_state=42, stratify=y_top\n",
    ")\n",
    "\n",
    "# ======================\n",
    "# 3. Scale Data\n",
    "# ======================\n",
    "scaler = StandardScaler()\n",
    "\n",
    "X_train_sel = scaler.fit_transform(X_train_sel)\n",
    "X_test_sel = scaler.transform(X_test_sel)\n",
    "\n",
    "X_train_top = scaler.fit_transform(X_train_top)\n",
    "X_test_top = scaler.transform(X_test_top)\n",
    "\n",
    "# ======================\n",
    "# 4. Train the Model\n",
    "# ======================\n",
    "rf = RandomForestClassifier(random_state=42)\n",
    "\n",
    "# --- Selected features\n",
    "rf.fit(X_train_sel, y_train_sel)\n",
    "y_pred_sel = rf.predict(X_test_sel)\n",
    "y_proba_sel = rf.predict_proba(X_test_sel)[:, 1]\n",
    "\n",
    "# --- Top10 features\n",
    "rf.fit(X_train_top, y_train_top)\n",
    "y_pred_top = rf.predict(X_test_top)\n",
    "y_proba_top = rf.predict_proba(X_test_top)[:, 1]\n",
    "\n",
    "# ======================\n",
    "# 5. Evaluate Results\n",
    "# ======================\n",
    "results = pd.DataFrame({\n",
    "    \"Feature Set\": [\"selected_features\", \"top10_features\"],\n",
    "    \"Accuracy\": [\n",
    "        accuracy_score(y_test_sel, y_pred_sel),\n",
    "        accuracy_score(y_test_top, y_pred_top)\n",
    "    ],\n",
    "    \"F1-score\": [\n",
    "        f1_score(y_test_sel, y_pred_sel),\n",
    "        f1_score(y_test_top, y_pred_top)\n",
    "    ],\n",
    "    \"AUC\": [\n",
    "        roc_auc_score(y_test_sel, y_proba_sel),\n",
    "        roc_auc_score(y_test_top, y_proba_top)\n",
    "    ]\n",
    "})\n",
    "\n",
    "print(\"\\n=== Feature Set Comparison ===\")\n",
    "print(results)\n"
   ]
  },
  {
   "cell_type": "code",
   "execution_count": null,
   "id": "eef686a8-f891-4ed4-8d38-450663d86a3c",
   "metadata": {},
   "outputs": [],
   "source": []
  }
 ],
 "metadata": {
  "kernelspec": {
   "display_name": "Python (.venv Heart)",
   "language": "python",
   "name": "heart_env"
  },
  "language_info": {
   "codemirror_mode": {
    "name": "ipython",
    "version": 3
   },
   "file_extension": ".py",
   "mimetype": "text/x-python",
   "name": "python",
   "nbconvert_exporter": "python",
   "pygments_lexer": "ipython3",
   "version": "3.12.5"
  }
 },
 "nbformat": 4,
 "nbformat_minor": 5
}
