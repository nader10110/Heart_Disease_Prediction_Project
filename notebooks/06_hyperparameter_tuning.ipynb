{
 "cells": [
  {
   "cell_type": "code",
   "execution_count": 1,
   "id": "40b5e177-eb54-4303-8920-88ba1c0eaea3",
   "metadata": {},
   "outputs": [],
   "source": [
    "import pandas as pd\n",
    "import numpy as np\n",
    "from sklearn.model_selection import train_test_split, GridSearchCV, RandomizedSearchCV\n",
    "from sklearn.preprocessing import StandardScaler\n",
    "from sklearn.linear_model import LogisticRegression\n",
    "from sklearn.ensemble import RandomForestClassifier\n",
    "from sklearn.metrics import accuracy_score\n",
    "from scipy.stats import randint\n"
   ]
  },
  {
   "cell_type": "code",
   "execution_count": 2,
   "id": "9ce27f66-7beb-4c48-a3eb-54463557e160",
   "metadata": {},
   "outputs": [],
   "source": [
    "data = pd.read_csv(r\"D:\\DATA_ANALYSIS\\ML_\\1\\Heart_Disease_Project\\data\\top10_features.csv\")\n",
    "\n",
    "X = data.drop(\"target\", axis=1)\n",
    "y = data[\"target\"]\n",
    "\n",
    "X_train, X_test, y_train, y_test = train_test_split(\n",
    "    X, y, test_size=0.2, random_state=42, stratify=y\n",
    ")\n",
    "\n",
    "scaler = StandardScaler()\n",
    "X_train_scaled = scaler.fit_transform(X_train)\n",
    "X_test_scaled = scaler.transform(X_test)"
   ]
  },
  {
   "cell_type": "code",
   "execution_count": 3,
   "id": "76f11845-601e-4e39-958e-6a8c5a932ff8",
   "metadata": {},
   "outputs": [
    {
     "name": "stdout",
     "output_type": "stream",
     "text": [
      "Baseline Logistic Regression Accuracy: 0.8852459016393442\n"
     ]
    }
   ],
   "source": [
    "\n",
    "log_reg = LogisticRegression(max_iter=1000, random_state=42)\n",
    "log_reg.fit(X_train_scaled, y_train)\n",
    "baseline_pred = log_reg.predict(X_test_scaled)\n",
    "baseline_acc = accuracy_score(y_test, baseline_pred)\n",
    "\n",
    "print(\"Baseline Logistic Regression Accuracy:\", baseline_acc)"
   ]
  },
  {
   "cell_type": "code",
   "execution_count": 4,
   "id": "81cfde14-8774-4fc1-a66b-d99d145bea03",
   "metadata": {},
   "outputs": [
    {
     "name": "stdout",
     "output_type": "stream",
     "text": [
      "\n",
      "Best Params (LogReg GridSearch): {'C': 0.01, 'penalty': 'l2', 'solver': 'lbfgs'}\n",
      "Best CV Score (LogReg): 0.8305272108843538\n",
      "Tuned Logistic Regression Accuracy: 0.9016393442622951\n"
     ]
    }
   ],
   "source": [
    "param_grid = {\n",
    "    \"C\": [0.01, 0.1, 1, 10, 100],\n",
    "    \"solver\": [\"liblinear\", \"lbfgs\"],\n",
    "    \"penalty\": [\"l2\"]  \n",
    "}\n",
    "\n",
    "grid_search = GridSearchCV(\n",
    "    LogisticRegression(max_iter=1000, random_state=42),param_grid, cv=5, scoring=\"accuracy\", n_jobs=-1\n",
    ")\n",
    "\n",
    "grid_search.fit(X_train_scaled, y_train)\n",
    "\n",
    "print(\"\\nBest Params (LogReg GridSearch):\", grid_search.best_params_)\n",
    "print(\"Best CV Score (LogReg):\", grid_search.best_score_)\n",
    "\n",
    "# Evaluate tuned logistic regression\n",
    "logreg_best = grid_search.best_estimator_\n",
    "logreg_pred = logreg_best.predict(X_test_scaled)\n",
    "logreg_acc = accuracy_score(y_test, logreg_pred)\n",
    "print(\"Tuned Logistic Regression Accuracy:\", logreg_acc)\n"
   ]
  },
  {
   "cell_type": "code",
   "execution_count": 5,
   "id": "266fc854-5904-4058-bd46-f4a5a1e3eb1c",
   "metadata": {},
   "outputs": [
    {
     "name": "stdout",
     "output_type": "stream",
     "text": [
      "\n",
      "Best Params (RandomForest RandomSearch): {'max_depth': 2, 'min_samples_leaf': 1, 'min_samples_split': 4, 'n_estimators': 108}\n",
      "Best CV Score (RandomForest): 0.8262755102040817\n",
      "Tuned Random Forest Accuracy: 0.8852459016393442\n"
     ]
    }
   ],
   "source": [
    "rf = RandomForestClassifier(random_state=42)\n",
    "\n",
    "param_dist = {\n",
    "    \"n_estimators\": randint(50, 300),\n",
    "    \"max_depth\": randint(2, 10),\n",
    "    \"min_samples_split\": randint(2, 10),\n",
    "    \"min_samples_leaf\": randint(1, 10)\n",
    "}\n",
    "\n",
    "random_search = RandomizedSearchCV(\n",
    "    rf, param_distributions=param_dist, n_iter=20, cv=5, scoring=\"accuracy\", n_jobs=-1, random_state=42\n",
    ")\n",
    "\n",
    "random_search.fit(X_train, y_train)\n",
    "\n",
    "print(\"\\nBest Params (RandomForest RandomSearch):\", random_search.best_params_)\n",
    "print(\"Best CV Score (RandomForest):\", random_search.best_score_)\n",
    "\n",
    "# Evaluate tuned Random Forest\n",
    "rf_best = random_search.best_estimator_\n",
    "rf_pred = rf_best.predict(X_test)\n",
    "rf_acc = accuracy_score(y_test, rf_pred)\n",
    "print(\"Tuned Random Forest Accuracy:\", rf_acc)\n"
   ]
  },
  {
   "cell_type": "code",
   "execution_count": 6,
   "id": "abd93f1b-1b91-4e59-9c13-09d9b0f49861",
   "metadata": {},
   "outputs": [
    {
     "name": "stdout",
     "output_type": "stream",
     "text": [
      "\n",
      "=== Model Comparison ===\n",
      "Baseline Logistic Regression: 0.885\n",
      "Tuned Logistic Regression:    0.902\n",
      "Tuned Random Forest:          0.885\n"
     ]
    }
   ],
   "source": [
    "\n",
    "print(\"\\n=== Model Comparison ===\")\n",
    "print(f\"Baseline Logistic Regression: {baseline_acc:.3f}\")\n",
    "print(f\"Tuned Logistic Regression:    {logreg_acc:.3f}\")\n",
    "print(f\"Tuned Random Forest:          {rf_acc:.3f}\")\n"
   ]
  },
  {
   "cell_type": "code",
   "execution_count": null,
   "id": "035fefaf-f252-47ed-ba06-cf842af13a59",
   "metadata": {},
   "outputs": [],
   "source": []
  }
 ],
 "metadata": {
  "kernelspec": {
   "display_name": "Python (.venv Heart)",
   "language": "python",
   "name": "heart_env"
  },
  "language_info": {
   "codemirror_mode": {
    "name": "ipython",
    "version": 3
   },
   "file_extension": ".py",
   "mimetype": "text/x-python",
   "name": "python",
   "nbconvert_exporter": "python",
   "pygments_lexer": "ipython3",
   "version": "3.12.5"
  }
 },
 "nbformat": 4,
 "nbformat_minor": 5
}
